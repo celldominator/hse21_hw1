{
 "cells": [
  {
   "cell_type": "code",
   "execution_count": 5,
   "metadata": {},
   "outputs": [
    {
     "name": "stdout",
     "output_type": "stream",
     "text": [
      "Число контигов: 608\n",
      "Суммарная длина контигов: 3924881\n",
      "Длина самого большог контига: 179307\n",
      "N50: 47797\n"
     ]
    }
   ],
   "source": [
    "f = open(\"Poil_contig.fa\", \"r\")\n",
    "count = 0\n",
    "lenth = 0\n",
    "all_ctg = []\n",
    "for i in f.readlines():\n",
    "    if i[0] == '>':\n",
    "        count += 1\n",
    "        index_len = i.find('len')+3\n",
    "        lenth += int(i[index_len : i.find('_', index_len)])\n",
    "        all_ctg.append(int(i[index_len : i.find('_', index_len)]))\n",
    "all_ctg.sort(reverse = True)\n",
    "print(\"Число контигов:\", count)\n",
    "print(\"Суммарная длина контигов:\", lenth)\n",
    "print(\"Длина самого большог контига:\", all_ctg[0])\n",
    "s = 0\n",
    "for i in all_ctg:\n",
    "    s += i\n",
    "    if (s >= (lenth/2)):\n",
    "        print(\"N50:\", i)\n",
    "        break"
   ]
  },
  {
   "cell_type": "code",
   "execution_count": 6,
   "metadata": {},
   "outputs": [
    {
     "name": "stdout",
     "output_type": "stream",
     "text": [
      "Число скаффолдов: 67\n",
      "Суммарная длина скаффолдов: 3875409\n",
      "Длина самого большого скафолда: 3834058\n",
      "N50: 3834058\n"
     ]
    }
   ],
   "source": [
    "f = open(\"Poil_scaffold.fa\", \"r\")\n",
    "count = 0\n",
    "lenth = 0\n",
    "all_ctg = []\n",
    "for i in f.readlines():\n",
    "    if i[0] == '>':\n",
    "        count += 1\n",
    "        index_len = i.find('len')+3\n",
    "        lenth += int(i[index_len : i.find('_', index_len)])\n",
    "        all_ctg.append(int(i[index_len : i.find('_', index_len)]))\n",
    "all_ctg.sort(reverse = True)\n",
    "print(\"Число скаффолдов:\", count)\n",
    "print(\"Суммарная длина скаффолдов:\", lenth)\n",
    "print(\"Длина самого большого скафолда:\", all_ctg[0])\n",
    "s = 0\n",
    "for i in all_ctg:\n",
    "    s += i\n",
    "    if (s >= (lenth/2)):\n",
    "        print(\"N50:\", i)\n",
    "        break"
   ]
  },
  {
   "cell_type": "code",
   "execution_count": 8,
   "metadata": {},
   "outputs": [
    {
     "name": "stdout",
     "output_type": "stream",
     "text": [
      "Количество гэпов: 28\n",
      "Общая длина гэпов: 1526\n"
     ]
    }
   ],
   "source": [
    "import re\n",
    "\n",
    "f = open(\"Poil_gapClosed.fa\", \"r\")\n",
    "count = 0\n",
    "longstr = f.read()\n",
    "res = re.findall(r'(N+)', longstr)\n",
    "print('Количество гэпов:', len(res))\n",
    "for i in res:\n",
    "    count += len(i)\n",
    "print('Общая длина гэпов:', count)"
   ]
  },
  {
   "cell_type": "code",
   "execution_count": 11,
   "metadata": {},
   "outputs": [
    {
     "name": "stdout",
     "output_type": "stream",
     "text": [
      "Количество гэпов: 9\n",
      "Общая длина гэпов: 1526\n"
     ]
    }
   ],
   "source": [
    "f = open(\"longest.fna\", \"r\")\n",
    "count = 0\n",
    "longstr = f.read()\n",
    "res = re.findall(r'(N+)', longstr)\n",
    "print('Количество гэпов:', len(res))\n",
    "for i in res:\n",
    "    count += len(i)\n",
    "print('Общая длина гэпов:', count)"
   ]
  },
  {
   "cell_type": "code",
   "execution_count": null,
   "metadata": {},
   "outputs": [],
   "source": []
  }
 ],
 "metadata": {
  "kernelspec": {
   "display_name": "Python 3",
   "language": "python",
   "name": "python3"
  },
  "language_info": {
   "codemirror_mode": {
    "name": "ipython",
    "version": 3
   },
   "file_extension": ".py",
   "mimetype": "text/x-python",
   "name": "python",
   "nbconvert_exporter": "python",
   "pygments_lexer": "ipython3",
   "version": "3.8.5"
  }
 },
 "nbformat": 4,
 "nbformat_minor": 4
}
